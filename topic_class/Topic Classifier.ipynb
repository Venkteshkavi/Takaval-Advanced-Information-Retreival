{
 "cells": [
  {
   "cell_type": "code",
   "execution_count": 1,
   "metadata": {},
   "outputs": [],
   "source": [
    "import matplotlib.pyplot as plt\n",
    "import pandas as pd\n",
    "import numpy as np\n",
    "import pickle\n",
    "from sklearn import metrics\n",
    "from sklearn.feature_extraction.text import CountVectorizer\n",
    "from sklearn.feature_extraction.text import TfidfTransformer\n",
    "from sklearn.naive_bayes import MultinomialNB\n",
    "from sklearn.model_selection import train_test_split\n",
    "from sklearn.linear_model import LogisticRegression\n",
    "from sklearn.ensemble import RandomForestClassifier\n",
    "from sklearn.svm import LinearSVC\n",
    "import seaborn as sns"
   ]
  },
  {
   "cell_type": "code",
   "execution_count": 62,
   "metadata": {},
   "outputs": [],
   "source": [
    "def relabel(row):\n",
    "    if row['event_type'].strip() == \"Riots\" :\n",
    "        return 0\n",
    "    if row['event_type'].strip() == \"Protests\" :\n",
    "        return 1\n",
    "    if row['event_type'].strip() == \"Violence against civilians\":\n",
    "        return 2\n",
    "    return 3"
   ]
  },
  {
   "cell_type": "code",
   "execution_count": 63,
   "metadata": {},
   "outputs": [
    {
     "data": {
      "text/html": [
       "<div>\n",
       "<style scoped>\n",
       "    .dataframe tbody tr th:only-of-type {\n",
       "        vertical-align: middle;\n",
       "    }\n",
       "\n",
       "    .dataframe tbody tr th {\n",
       "        vertical-align: top;\n",
       "    }\n",
       "\n",
       "    .dataframe thead th {\n",
       "        text-align: right;\n",
       "    }\n",
       "</style>\n",
       "<table border=\"1\" class=\"dataframe\">\n",
       "  <thead>\n",
       "    <tr style=\"text-align: right;\">\n",
       "      <th></th>\n",
       "      <th>notes</th>\n",
       "      <th>label</th>\n",
       "    </tr>\n",
       "  </thead>\n",
       "  <tbody>\n",
       "    <tr>\n",
       "      <th>2017</th>\n",
       "      <td>On January 31st, demonstrators gathered in Kar...</td>\n",
       "      <td>1</td>\n",
       "    </tr>\n",
       "    <tr>\n",
       "      <th>4421</th>\n",
       "      <td>On January 13, locals vandalized a van at the ...</td>\n",
       "      <td>0</td>\n",
       "    </tr>\n",
       "    <tr>\n",
       "      <th>5001</th>\n",
       "      <td>On Dec 28, settlers physically assaulted and i...</td>\n",
       "      <td>0</td>\n",
       "    </tr>\n",
       "    <tr>\n",
       "      <th>7752</th>\n",
       "      <td>21 January. The ADF attacked FARDC positions i...</td>\n",
       "      <td>3</td>\n",
       "    </tr>\n",
       "    <tr>\n",
       "      <th>1201</th>\n",
       "      <td>On Dec 24, a fisherman was killed by a policem...</td>\n",
       "      <td>2</td>\n",
       "    </tr>\n",
       "  </tbody>\n",
       "</table>\n",
       "</div>"
      ],
      "text/plain": [
       "                                                  notes  label\n",
       "2017  On January 31st, demonstrators gathered in Kar...      1\n",
       "4421  On January 13, locals vandalized a van at the ...      0\n",
       "5001  On Dec 28, settlers physically assaulted and i...      0\n",
       "7752  21 January. The ADF attacked FARDC positions i...      3\n",
       "1201  On Dec 24, a fisherman was killed by a policem...      2"
      ]
     },
     "execution_count": 63,
     "metadata": {},
     "output_type": "execute_result"
    }
   ],
   "source": [
    "prot = pd.read_csv(\"dataset/protest.csv\")\n",
    "riot = pd.read_csv(\"dataset/riots.csv\")\n",
    "others = pd.read_csv(\"dataset/others.csv\")\n",
    "df = pd.read_csv(\"dataset/violence.csv\")\n",
    "df = df.append(prot, ignore_index = True)\n",
    "df = df.append(riot, ignore_index = True)\n",
    "df = df.append(others, ignore_index = True)\n",
    "df['label'] = df.apply (lambda row: relabel(row), axis=1)\n",
    "columns = ['notes', 'label']\n",
    "df = df[columns]\n",
    "df.columns = ['notes', 'label']\n",
    "df = df.reindex(np.random.permutation(df.index))\n",
    "len(df)\n",
    "df.head()"
   ]
  },
  {
   "cell_type": "code",
   "execution_count": 64,
   "metadata": {},
   "outputs": [
    {
     "data": {
      "image/png": "[encoded data removed]",
      "text/plain": [
       "<Figure size 576x432 with 1 Axes>"
      ]
     },
     "metadata": {
      "needs_background": "light"
     },
     "output_type": "display_data"
    }
   ],
   "source": [
    "fig = plt.figure(figsize=(8,6))\n",
    "df.groupby('label').notes.count().plot.bar(ylim=0)\n",
    "plt.show()"
   ]
  },
  {
   "cell_type": "code",
   "execution_count": 65,
   "metadata": {},
   "outputs": [],
   "source": [
    "#count\n",
    "count_vect = CountVectorizer()\n",
    "X_train_counts = count_vect.fit_transform(df.notes)\n",
    "pickle.dump(count_vect.vocabulary_, open(\"count_vector.pkl\",\"wb\"))"
   ]
  },
  {
   "cell_type": "code",
   "execution_count": 66,
   "metadata": {},
   "outputs": [],
   "source": [
    "#Word vector to tfidf\n",
    "tfidf_transformer = TfidfTransformer()\n",
    "X_train_tfidf = tfidf_transformer.fit_transform(X_train_counts)\n",
    "pickle.dump(tfidf_transformer, open(\"tfidf.pkl\",\"wb\"))"
   ]
  },
  {
   "cell_type": "code",
   "execution_count": 67,
   "metadata": {},
   "outputs": [
    {
     "name": "stdout",
     "output_type": "stream",
     "text": [
      "{'0': 1515, '1': 1488, '2': 1499, '3': 1495}\n"
     ]
    }
   ],
   "source": [
    "X_train, X_test, y_train, y_test = train_test_split(X_train_tfidf, df.label, test_size=0.25, random_state=42)\n",
    "hm = {'0':0,'1':0,'2':0,'3':0}\n",
    "for d in y_train:\n",
    "    if d == 0:\n",
    "        hm['0'] += 1\n",
    "    elif d == 1:\n",
    "        hm['1'] += 1\n",
    "    elif d == 2:\n",
    "        hm['2'] += 1\n",
    "    else:\n",
    "        hm['3'] += 1\n",
    "print(hm)\n",
    "clf = MultinomialNB().fit(X_train, y_train)\n",
    "pickle.dump(clf, open(\"nb_model.pkl\", \"wb\"))"
   ]
  },
  {
   "cell_type": "code",
   "execution_count": null,
   "metadata": {},
   "outputs": [
    {
     "name": "stdout",
     "output_type": "stream",
     "text": [
      "0.7928100404169326\n",
      "[[ 827  635   68  105]\n",
      " [  68 2567    5    9]\n",
      " [  38    4  136   32]\n",
      " [   1    7    2  197]]\n",
      "(array([0.88543897, 0.7989418 , 0.64454976, 0.57434402]), array([0.5058104 , 0.96904492, 0.64761905, 0.95169082]), array([0.64383028, 0.8758103 , 0.64608076, 0.71636364]), array([1635, 2649,  210,  207]))\n"
     ]
    }
   ],
   "source": [
    "#Input Dataset\n",
    "tf = pd.read_csv(\"dataset/all.csv\")\n",
    "tf['label'] = tf.apply (lambda row: relabel(row), axis=1)\n",
    "columns = ['notes', 'label']\n",
    "tf = tf[columns]\n",
    "tf.columns = ['notes', 'label']\n",
    "\n",
    "#Load the model\n",
    "loaded_vec = CountVectorizer(vocabulary=pickle.load(open(\"count_vector.pkl\", \"rb\")))\n",
    "loaded_tfidf = pickle.load(open(\"tfidf.pkl\",\"rb\"))\n",
    "loaded_model = pickle.load(open(\"nb_model.pkl\",\"rb\"))\n",
    "\n",
    "X_new_counts = loaded_vec.transform(tf.notes)\n",
    "X_new_tfidf = loaded_tfidf.transform(X_new_counts)\n",
    "predicted = loaded_model.predict(X_new_tfidf)\n",
    "print(metrics.accuracy_score(predicted, tf.label))\n",
    "print(metrics.confusion_matrix(predicted, tf.label))\n",
    "print(metrics.precision_recall_fscore_support(predicted, tf.label))\n",
    "sns.heatmap(metrics.confusion_matrix(predicted, tf.label))\n",
    "plt.ylabel('Actual')\n",
    "plt.xlabel('Predicted')\n",
    "plt.show()"
   ]
  },
  {
   "cell_type": "code",
   "execution_count": 11,
   "metadata": {},
   "outputs": [
    {
     "data": {
      "image/png": "[encoded data removed]",
      "text/plain": [
       "<Figure size 432x288 with 2 Axes>"
      ]
     },
     "metadata": {
      "needs_background": "light"
     },
     "output_type": "display_data"
    }
   ],
   "source": [
    "a = [[ 803,  318,   38,   49],\n",
    " [  44, 2882,    2,    3],\n",
    " [  83,   11,  169,   40],\n",
    " [   4,    2,    2,  251]]\n",
    "sns.heatmap(a, annot=True, fmt='d',cmap=\"Blues\",\n",
    "            xticklabels=[\"Riot\", \"Protest\", \"Violence\", \"Other\"], yticklabels=[\"Riot\", \"Protest\", \"Violence\", \"Other\"])\n",
    "plt.ylabel('Actual')\n",
    "plt.xlabel('Predicted')\n",
    "plt.show()"
   ]
  },
  {
   "cell_type": "code",
   "execution_count": 56,
   "metadata": {},
   "outputs": [
    {
     "name": "stdout",
     "output_type": "stream",
     "text": [
      "0.8610933843863008\n",
      "[[ 784  300   40   84]\n",
      " [  58 2897    2    4]\n",
      " [  91   15  167   55]\n",
      " [   1    1    2  200]]\n",
      "(array([0.83940043, 0.90164955, 0.79146919, 0.58309038]), array([0.64900662, 0.97838568, 0.50914634, 0.98039216]), array([0.73202614, 0.93845157, 0.61966605, 0.73126143]), array([1208, 2961,  328,  204]))\n"
     ]
    },
    {
     "name": "stderr",
     "output_type": "stream",
     "text": [
      "/Users/bobbyda/air/env/lib/python3.7/site-packages/sklearn/linear_model/logistic.py:433: FutureWarning: Default solver will be changed to 'lbfgs' in 0.22. Specify a solver to silence this warning.\n",
      "  FutureWarning)\n",
      "/Users/bobbyda/air/env/lib/python3.7/site-packages/sklearn/linear_model/logistic.py:460: FutureWarning: Default multi_class will be changed to 'auto' in 0.22. Specify the multi_class option to silence this warning.\n",
      "  \"this warning.\", FutureWarning)\n"
     ]
    }
   ],
   "source": [
    "lr_model = LogisticRegression().fit(X_train, y_train)\n",
    "\n",
    "predicted = lr_model.predict(X_new_tfidf)\n",
    "print(metrics.accuracy_score(predicted, tf.label))\n",
    "print(metrics.confusion_matrix(predicted, tf.label))\n",
    "print(metrics.precision_recall_fscore_support(predicted, tf.label))\n"
   ]
  },
  {
   "cell_type": "code",
   "execution_count": 57,
   "metadata": {},
   "outputs": [
    {
     "name": "stdout",
     "output_type": "stream",
     "text": [
      "0.7092108062114444\n",
      "[[ 311   23    9   46]\n",
      " [ 357 2788   43   88]\n",
      " [ 247  348  152  126]\n",
      " [  19   54    7   83]]\n",
      "(array([0.33297645, 0.86772487, 0.72037915, 0.24198251]), array([0.79948586, 0.85103785, 0.17411226, 0.50920245]), array([0.47014361, 0.85930035, 0.2804428 , 0.32806324]), array([ 389, 3276,  873,  163]))\n"
     ]
    }
   ],
   "source": [
    "rf_model = RandomForestClassifier(n_estimators=50, max_depth=1, random_state=0).fit(X_train, y_train)\n",
    "predicted = rf_model.predict(X_new_tfidf)\n",
    "print(metrics.accuracy_score(predicted, tf.label))\n",
    "print(metrics.confusion_matrix(predicted, tf.label))\n",
    "print(metrics.precision_recall_fscore_support(predicted, tf.label))\n"
   ]
  },
  {
   "cell_type": "code",
   "execution_count": 58,
   "metadata": {},
   "outputs": [
    {
     "name": "stdout",
     "output_type": "stream",
     "text": [
      "0.8732184641565625\n",
      "[[ 803  318   38   49]\n",
      " [  44 2882    2    3]\n",
      " [  83   11  169   40]\n",
      " [   4    2    2  251]]\n",
      "(array([0.85974304, 0.89698101, 0.80094787, 0.73177843]), array([0.6647351 , 0.98328216, 0.55775578, 0.96911197]), array([0.74976657, 0.93815104, 0.65758755, 0.83388704]), array([1208, 2931,  303,  259]))\n"
     ]
    }
   ],
   "source": [
    "lsvc_model = LinearSVC().fit(X_train, y_train)\n",
    "predicted = lsvc_model.predict(X_new_tfidf)\n",
    "print(metrics.accuracy_score(predicted, tf.label))\n",
    "print(metrics.confusion_matrix(predicted, tf.label))\n",
    "print(metrics.precision_recall_fscore_support(predicted, tf.label))\n"
   ]
  },
  {
   "cell_type": "code",
   "execution_count": 2,
   "metadata": {},
   "outputs": [],
   "source": [
    "import spacy\n",
    "from spacy import displacy\n",
    "from collections import Counter\n",
    "import en_core_web_lg\n",
    "import en_core_web_sm\n",
    "nlp = en_core_web_lg.load()\n",
    "#nlp = spacy.load(\"/Users/praveenkumarrajendran/codebase/air/en_lg\")"
   ]
  },
  {
   "cell_type": "code",
   "execution_count": 3,
   "metadata": {},
   "outputs": [],
   "source": [
    "violence_tokens = set()\n",
    "violence_doc = nlp(\"crime kill murder death died criminal convict attack assault assaulted harrasment offence illegal attacker attacked\")\n",
    "for token in violence_doc:\n",
    "    violence_tokens.add(token.lemma_)\n",
    "\n",
    "protest_tokens = set()\n",
    "protest_doc = nlp(\"protest protester agitation perpetrators rioters riot discord rebellion activist activism demonstration demonstrating resentment grievances agitators ban fast march dharna mourn strike\")\n",
    "for token in protest_doc:\n",
    "    protest_tokens.add(token.lemma_)"
   ]
  },
  {
   "cell_type": "code",
   "execution_count": 4,
   "metadata": {},
   "outputs": [],
   "source": [
    "def classify_doc_topic(doc):\n",
    "    docTokens = set()\n",
    "    topic = 'Unclassified'\n",
    "    for token in doc:\n",
    "        docTokens.add(token.lemma_)\n",
    "    violence_match = len(docTokens.intersection(violence_tokens))\n",
    "    protest_match = len(docTokens.intersection(protest_tokens))\n",
    "\n",
    "    if(violence_match > 0 and protest_match > 0):\n",
    "        if(violence_match > protest_match):\n",
    "            topic = 'Violence against Civilians'\n",
    "        else:\n",
    "            topic = 'Riots/Protests'\n",
    "    elif (violence_match > 0):\n",
    "        topic = 'Violence against Civilians'\n",
    "    elif (protest_match > 0):\n",
    "        topic = 'Riots/Protests'    \n",
    "    return topic"
   ]
  },
  {
   "cell_type": "code",
   "execution_count": null,
   "metadata": {},
   "outputs": [],
   "source": []
  }
 ],
 "metadata": {
  "kernelspec": {
   "display_name": "env",
   "language": "python",
   "name": "env"
  },
  "language_info": {
   "codemirror_mode": {
    "name": "ipython",
    "version": 3
   },
   "file_extension": ".py",
   "mimetype": "text/x-python",
   "name": "python",
   "nbconvert_exporter": "python",
   "pygments_lexer": "ipython3",
   "version": "3.7.2"
  }
 },
 "nbformat": 4,
 "nbformat_minor": 2
}
